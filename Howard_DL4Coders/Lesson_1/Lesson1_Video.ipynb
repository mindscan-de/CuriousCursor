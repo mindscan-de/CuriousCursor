{
 "cells": [
  {
   "cell_type": "code",
   "execution_count": null,
   "id": "c9d57559",
   "metadata": {},
   "outputs": [],
   "source": [
    "from IPython.lib.display import YouTubeVideo\n"
   ]
  },
  {
   "cell_type": "code",
   "execution_count": null,
   "id": "e2b09eca",
   "metadata": {},
   "outputs": [],
   "source": [
    "YouTubeVideo('_QUEXsHfsA0', width=640, height=480)\n"
   ]
  },
  {
   "cell_type": "markdown",
   "id": "9a5a3aae",
   "metadata": {},
   "source": [
    "# Notices\n",
    "\n",
    "\n",
    "## Deep Learning for Coders with fastai & PyTorch\n",
    "\n",
    "\n",
    "Notices from the first Lesson\n",
    "\n",
    "\n",
    "### Just listening ...\n",
    "\n",
    "* Buy the book don't turn the notebooks into PDFs, it is genereous of oreilley media to allow this access\n",
    "\n",
    "\n",
    "TODO:\n",
    "* start again at 9:45 read through the slide.\n",
    "* Page 4 of the book:\n",
    "\n",
    "* Deep Learing is useful in a lot of places.\n",
    "  * NLP\n",
    "  * Computer Vision\n",
    "  * Medicine\n",
    "  * Biology\n",
    "  * Image Generation\n",
    "  * Recommendation Systems\n",
    "  * Playing Games\n",
    "  * Robotics\n",
    "  * Other Applications\n",
    "\n",
    "* Page 5\n",
    "  * neuronal networks are not new\n",
    "\n",
    "* Page6: 11:50\n",
    "* Page7: 13:16 come back and see that we are always dowing the same\n",
    "* Page7: 14:33 two layers are enough for any mathematical approximaton\n",
    "*              But it is better to use more layers\n",
    "\n",
    "* ca. 16:50 Starting with learing the sigmoid functions first is not the right way to learn machine learning.\n",
    "  * Play the whole game -  from step one play the whole game\n",
    "  * Make it worth playing\n",
    "  * Work on the hard parts\n",
    "\n",
    "\n",
    "* university vs non university:\n",
    "  * accumumlation in university is the bottom up approach\n",
    "  * non university - top down - make it just work... but start with end-to-end first\n",
    "\n",
    "* The university approach ist easier to teach\n",
    "\n",
    "* 23:35 Page 12\n",
    "\n",
    "* 24:30 Shift to pytorch ?\n",
    "\n",
    "\n",
    "* start again at 27:38 - page 14\n",
    "  * it doesn't matter which software stack to use.\n",
    "  * you can always switch once you know the thing, so learn e.g. fastai and then just switch within one week when needed\n",
    "  * don't build a GPU machine, if you don't already have one, instead use a ready GPU instance, you can even use inexpensive ones for 0.25€ an hour or even free ones.\n",
    "  * Don't learn the setup of such machines, don't waste your time\n",
    "  * Not every service saves your work, Note that the servers run even when the browser window is closed.\n",
    "  \n",
    "\n",
    "* 32:31 introduction into Jupyter Notebooks\n",
    "  * REPL - Read Evaluate Print Loop\n",
    "  * command mode vs edit mode \n",
    "  * learn markdown for jupyter\n",
    "  * go through app_jupyter.ipynb\n",
    "  \n",
    "  \n",
    "* continue on 38:42 ...\n",
    "  * duplicate the notebooks first before starting to edit them."
   ]
  },
  {
   "cell_type": "markdown",
   "id": "49d042fb",
   "metadata": {},
   "source": []
  }
 ],
 "metadata": {
  "kernelspec": {
   "display_name": "Python 3 (ipykernel)",
   "language": "python",
   "name": "python3"
  },
  "language_info": {
   "codemirror_mode": {
    "name": "ipython",
    "version": 3
   },
   "file_extension": ".py",
   "mimetype": "text/x-python",
   "name": "python",
   "nbconvert_exporter": "python",
   "pygments_lexer": "ipython3",
   "version": "3.8.10"
  }
 },
 "nbformat": 4,
 "nbformat_minor": 5
}
