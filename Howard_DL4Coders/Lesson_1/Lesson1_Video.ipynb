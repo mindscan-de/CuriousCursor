{
 "cells": [
  {
   "cell_type": "code",
   "execution_count": null,
   "id": "c9d57559",
   "metadata": {},
   "outputs": [],
   "source": [
    "from IPython.lib.display import YouTubeVideo\n"
   ]
  },
  {
   "cell_type": "code",
   "execution_count": null,
   "id": "e2b09eca",
   "metadata": {},
   "outputs": [],
   "source": [
    "YouTubeVideo('_QUEXsHfsA0', width=640, height=480)\n"
   ]
  },
  {
   "cell_type": "markdown",
   "id": "dab6ecfa",
   "metadata": {},
   "source": [
    "# Notices\n",
    "\n",
    "\n",
    "## Deep Learning for Coders with fastai & PyTorch\n",
    "\n",
    "\n",
    "Notices from the first Lesson\n",
    "\n",
    "\n",
    "### Just listening ...\n",
    "\n",
    "* Buy the book don't turn the notebooks into PDFs, it is genereous of oreilley media to allow this access\n",
    "* \n"
   ]
  },
  {
   "cell_type": "code",
   "execution_count": null,
   "id": "ab621d7e",
   "metadata": {},
   "outputs": [],
   "source": []
  }
 ],
 "metadata": {
  "kernelspec": {
   "display_name": "Python 3 (ipykernel)",
   "language": "python",
   "name": "python3"
  },
  "language_info": {
   "codemirror_mode": {
    "name": "ipython",
    "version": 3
   },
   "file_extension": ".py",
   "mimetype": "text/x-python",
   "name": "python",
   "nbconvert_exporter": "python",
   "pygments_lexer": "ipython3",
   "version": "3.8.10"
  }
 },
 "nbformat": 4,
 "nbformat_minor": 5
}
